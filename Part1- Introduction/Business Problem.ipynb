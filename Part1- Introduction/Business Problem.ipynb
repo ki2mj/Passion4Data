{
    "cells": [
        {
            "cell_type": "markdown",
            "metadata": {
                "collapsed": true
            },
            "source": "# Problem Background:"
        },
        {
            "cell_type": "markdown",
            "metadata": {},
            "source": "The City of New York, is diverse and is the financial capital of USA. It is multicultural and provides lot of business oppourtunities. Its business friendly environment has attracted many different players into the market. It is a global hub of business and commercefor banking and finance, retailing, world trade, transportation, tourism, real estate, new media, traditional media, advertising, legal services, accountancy, insurance, theater, fashion, and the arts.New York is highly competitive, and the cost of operating business is also one of the highest. Therefore, I would like to deliver analysis to help new business with stratigically targeting the market to reduce risk and recieve return. "
        },
        {
            "cell_type": "markdown",
            "metadata": {},
            "source": "# Problem Description:"
        },
        {
            "cell_type": "markdown",
            "metadata": {},
            "source": "The City of New York is famous for its excelllent cuisine. It's food culture includes an array of international cuisines influenced by the city's immigrant history.\n\nCentral and Eastern European immigrants, especially Jewish immigrants - bagels, cheesecake, hot dogs, knishes, and delicatessens\nItalian immigrants - New York-style pizza and Italian cuisine\nJewish immigrants and Irish immigrants - pastrami and corned beef\nChinese and other Asian restaurants, sandwich joints, trattorias, diners, and coffeehouses are ubiquitous throughout the city\nmobile food vendors - Some 4,000 licensed by the city\nMiddle Eastern foods such as falafel and kebabs examples of modern New York street food\nIt is famous for not just Pizzerias, Cafe's but also for fine dining Michelin starred restaurants.The city is home to \"nearly one thousand of the finest and most diverse haute cuisine restaurants in the world\", according to Michelin.\nSo it is evident that to survive in such competitive market it is very important to startegically plan. Various factors need to be studied inorder to decide on the Location such as :\n\nNew York Population\nNew York City Demographics\nAre there any Farmers Markets, Wholesale markets etc nearby so that the ingredients can be purchased fresh to maintain quality and cost?\nAre there any venues like Gyms, Entertainmnet zones, Parks etc nearby where floating population is high etc\nWho are the competitors in that location?\nCuisine served / Menu of the competitors\nSegmentation of the Borough\nUntapped markets\nSaturated markets and so on\n\nChoosing a correct location is the the key, where the business can meet its most taerget groups and provide its specialty that has not introduced yet. "
        },
        {
            "cell_type": "markdown",
            "metadata": {},
            "source": "# Target Audiance:"
        },
        {
            "cell_type": "markdown",
            "metadata": {},
            "source": "Anyone who wants to start a new restaurant in Newyork city."
        },
        {
            "cell_type": "markdown",
            "metadata": {},
            "source": "# Sucess Criteria"
        },
        {
            "cell_type": "markdown",
            "metadata": {},
            "source": "A business can meet its most taerget groups and provide its specialty that has not introduced yet."
        },
        {
            "cell_type": "code",
            "execution_count": null,
            "metadata": {},
            "outputs": [],
            "source": ""
        }
    ],
    "metadata": {
        "kernelspec": {
            "display_name": "Python 3.6",
            "language": "python",
            "name": "python3"
        },
        "language_info": {
            "codemirror_mode": {
                "name": "ipython",
                "version": 3
            },
            "file_extension": ".py",
            "mimetype": "text/x-python",
            "name": "python",
            "nbconvert_exporter": "python",
            "pygments_lexer": "ipython3",
            "version": "3.6.9"
        }
    },
    "nbformat": 4,
    "nbformat_minor": 1
}